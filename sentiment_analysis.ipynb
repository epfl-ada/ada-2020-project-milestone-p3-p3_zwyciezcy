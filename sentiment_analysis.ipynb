{
  "nbformat": 4,
  "nbformat_minor": 0,
  "metadata": {
    "language_info": {
      "codemirror_mode": {
        "name": "ipython",
        "version": 3
      },
      "file_extension": ".py",
      "mimetype": "text/x-python",
      "name": "python",
      "nbconvert_exporter": "python",
      "pygments_lexer": "ipython3",
      "version": "3.7.4-final"
    },
    "orig_nbformat": 2,
    "kernelspec": {
      "name": "python3",
      "display_name": "Python 3",
      "language": "python"
    },
    "colab": {
      "name": "sentiment_analysis.ipynb",
      "provenance": [],
      "collapsed_sections": []
    }
  },
  "cells": [
    {
      "cell_type": "code",
      "metadata": {
        "id": "wyHF8G-8rlUz"
      },
      "source": [
        "import pandas as pd\n",
        "import numpy as np\n",
        "\n",
        "PATH = './drive/MyDrive/Colab Notebooks/Datasets/training.1600000.processed.noemoticon.csv'\n",
        "# data from AI crowd: https://www.aicrowd.com/challenges/epfl-ml-text-classification\n",
        "PATH_POS = './drive/MyDrive/Colab Notebooks/Datasets/train_pos_full.txt'\n",
        "PATH_NEG = './drive/MyDrive/Colab Notebooks/Datasets/train_neg_full.txt'\n",
        "PICKLE_PATH = './backup_sentiment'"
      ],
      "execution_count": 4,
      "outputs": []
    },
    {
      "cell_type": "code",
      "metadata": {
        "colab": {
          "base_uri": "https://localhost:8080/"
        },
        "id": "M1GOLOxGu8f_",
        "outputId": "dc8b3ae0-6980-4d97-d888-f78c9cb3399c"
      },
      "source": [
        "from google.colab import drive\n",
        "drive.mount('/content/drive')"
      ],
      "execution_count": 5,
      "outputs": [
        {
          "output_type": "stream",
          "text": [
            "Mounted at /content/drive\n"
          ],
          "name": "stdout"
        }
      ]
    },
    {
      "cell_type": "code",
      "metadata": {
        "id": "vlNxZuKSrlU0"
      },
      "source": [
        "# function to read the .txt file of the AI crowd data set\n",
        "def get_new_tweets():\n",
        "    pos= list()\n",
        "    neg = list()\n",
        "    with open(PATH_POS,errors = \"ignore\") as f:\n",
        "        for line in f:\n",
        "            pos.append(line.replace(\"\\n\",\"\"))\n",
        "    with open(PATH_NEG,errors = \"ignore\") as f:\n",
        "        for line in f:\n",
        "            neg.append(line.replace(\"\\n\",\"\"))\n",
        "    return pd.Series(np.array(pos)),pd.Series(np.array(neg))"
      ],
      "execution_count": 6,
      "outputs": []
    },
    {
      "cell_type": "code",
      "metadata": {
        "id": "1LzesEncrlU1"
      },
      "source": [
        "tweet_pos,tweet_neg = get_new_tweets()"
      ],
      "execution_count": 7,
      "outputs": []
    },
    {
      "cell_type": "code",
      "metadata": {
        "colab": {
          "base_uri": "https://localhost:8080/"
        },
        "id": "Ux55onG1rlU2",
        "outputId": "d7a59485-9b12-405b-92a7-e7c56da29ad8"
      },
      "source": [
        "# importing the kaggle dataset\n",
        "try:  \n",
        "    tweets = pd.read_pickle(PICKLE_PATH)\n",
        "except:\n",
        "    header_list = [\"target\", \"id\", \"date\" ,\"flag\", \"user\", \"text\"]\n",
        "    print(\"there is no backup\")\n",
        "    tweets = pd.read_csv(PATH, encoding = \"ISO-8859-1\", names=header_list)\n",
        "    tweets.to_pickle(PICKLE_PATH)\n",
        "    # tweet_pos,tweet_neg = get_new_tweets()"
      ],
      "execution_count": 9,
      "outputs": [
        {
          "output_type": "stream",
          "text": [
            "there is no backup\n"
          ],
          "name": "stdout"
        }
      ]
    },
    {
      "cell_type": "code",
      "metadata": {
        "colab": {
          "base_uri": "https://localhost:8080/",
          "height": 371
        },
        "id": "DGkVKMb_rlU3",
        "outputId": "abb07115-b5d9-42f1-f2f1-bd982d5e4dc1"
      },
      "source": [
        "sentiment_num2name = {\n",
        "     0: \"Negative\",\n",
        "     2: \"Neutral\",\n",
        "     4: \"Positive\",\n",
        "}\n",
        "tweets[\"target\"] = tweets[\"target\"].apply(lambda num: sentiment_num2name[num])\n",
        "tweets.head()"
      ],
      "execution_count": 60,
      "outputs": [
        {
          "output_type": "execute_result",
          "data": {
            "text/html": [
              "<div>\n",
              "<style scoped>\n",
              "    .dataframe tbody tr th:only-of-type {\n",
              "        vertical-align: middle;\n",
              "    }\n",
              "\n",
              "    .dataframe tbody tr th {\n",
              "        vertical-align: top;\n",
              "    }\n",
              "\n",
              "    .dataframe thead th {\n",
              "        text-align: right;\n",
              "    }\n",
              "</style>\n",
              "<table border=\"1\" class=\"dataframe\">\n",
              "  <thead>\n",
              "    <tr style=\"text-align: right;\">\n",
              "      <th></th>\n",
              "      <th>target</th>\n",
              "      <th>id</th>\n",
              "      <th>date</th>\n",
              "      <th>flag</th>\n",
              "      <th>user</th>\n",
              "      <th>text</th>\n",
              "      <th>month</th>\n",
              "    </tr>\n",
              "  </thead>\n",
              "  <tbody>\n",
              "    <tr>\n",
              "      <th>0</th>\n",
              "      <td>Negative</td>\n",
              "      <td>1467810369</td>\n",
              "      <td>Mon Apr 06 22:19:45 PDT 2009</td>\n",
              "      <td>NO_QUERY</td>\n",
              "      <td>_TheSpecialOne_</td>\n",
              "      <td>@switchfoot http://twitpic.com/2y1zl - Awww, t...</td>\n",
              "      <td>4</td>\n",
              "    </tr>\n",
              "    <tr>\n",
              "      <th>1</th>\n",
              "      <td>Negative</td>\n",
              "      <td>1467810672</td>\n",
              "      <td>Mon Apr 06 22:19:49 PDT 2009</td>\n",
              "      <td>NO_QUERY</td>\n",
              "      <td>scotthamilton</td>\n",
              "      <td>is upset that he can't update his Facebook by ...</td>\n",
              "      <td>4</td>\n",
              "    </tr>\n",
              "    <tr>\n",
              "      <th>2</th>\n",
              "      <td>Negative</td>\n",
              "      <td>1467810917</td>\n",
              "      <td>Mon Apr 06 22:19:53 PDT 2009</td>\n",
              "      <td>NO_QUERY</td>\n",
              "      <td>mattycus</td>\n",
              "      <td>@Kenichan I dived many times for the ball. Man...</td>\n",
              "      <td>4</td>\n",
              "    </tr>\n",
              "    <tr>\n",
              "      <th>3</th>\n",
              "      <td>Negative</td>\n",
              "      <td>1467811184</td>\n",
              "      <td>Mon Apr 06 22:19:57 PDT 2009</td>\n",
              "      <td>NO_QUERY</td>\n",
              "      <td>ElleCTF</td>\n",
              "      <td>my whole body feels itchy and like its on fire</td>\n",
              "      <td>4</td>\n",
              "    </tr>\n",
              "    <tr>\n",
              "      <th>4</th>\n",
              "      <td>Negative</td>\n",
              "      <td>1467811193</td>\n",
              "      <td>Mon Apr 06 22:19:57 PDT 2009</td>\n",
              "      <td>NO_QUERY</td>\n",
              "      <td>Karoli</td>\n",
              "      <td>@nationwideclass no, it's not behaving at all....</td>\n",
              "      <td>4</td>\n",
              "    </tr>\n",
              "  </tbody>\n",
              "</table>\n",
              "</div>"
            ],
            "text/plain": [
              "     target  ...  month\n",
              "0  Negative  ...      4\n",
              "1  Negative  ...      4\n",
              "2  Negative  ...      4\n",
              "3  Negative  ...      4\n",
              "4  Negative  ...      4\n",
              "\n",
              "[5 rows x 7 columns]"
            ]
          },
          "metadata": {
            "tags": []
          },
          "execution_count": 60
        }
      ]
    },
    {
      "cell_type": "code",
      "metadata": {
        "colab": {
          "base_uri": "https://localhost:8080/",
          "height": 302
        },
        "id": "BaDje1lRSBFT",
        "outputId": "cd0e94d8-758c-4e44-f8fd-6f922c40e38b"
      },
      "source": [
        "tweets.head()"
      ],
      "execution_count": 10,
      "outputs": [
        {
          "output_type": "execute_result",
          "data": {
            "text/html": [
              "<div>\n",
              "<style scoped>\n",
              "    .dataframe tbody tr th:only-of-type {\n",
              "        vertical-align: middle;\n",
              "    }\n",
              "\n",
              "    .dataframe tbody tr th {\n",
              "        vertical-align: top;\n",
              "    }\n",
              "\n",
              "    .dataframe thead th {\n",
              "        text-align: right;\n",
              "    }\n",
              "</style>\n",
              "<table border=\"1\" class=\"dataframe\">\n",
              "  <thead>\n",
              "    <tr style=\"text-align: right;\">\n",
              "      <th></th>\n",
              "      <th>target</th>\n",
              "      <th>id</th>\n",
              "      <th>date</th>\n",
              "      <th>flag</th>\n",
              "      <th>user</th>\n",
              "      <th>text</th>\n",
              "    </tr>\n",
              "  </thead>\n",
              "  <tbody>\n",
              "    <tr>\n",
              "      <th>0</th>\n",
              "      <td>0</td>\n",
              "      <td>1467810369</td>\n",
              "      <td>Mon Apr 06 22:19:45 PDT 2009</td>\n",
              "      <td>NO_QUERY</td>\n",
              "      <td>_TheSpecialOne_</td>\n",
              "      <td>@switchfoot http://twitpic.com/2y1zl - Awww, t...</td>\n",
              "    </tr>\n",
              "    <tr>\n",
              "      <th>1</th>\n",
              "      <td>0</td>\n",
              "      <td>1467810672</td>\n",
              "      <td>Mon Apr 06 22:19:49 PDT 2009</td>\n",
              "      <td>NO_QUERY</td>\n",
              "      <td>scotthamilton</td>\n",
              "      <td>is upset that he can't update his Facebook by ...</td>\n",
              "    </tr>\n",
              "    <tr>\n",
              "      <th>2</th>\n",
              "      <td>0</td>\n",
              "      <td>1467810917</td>\n",
              "      <td>Mon Apr 06 22:19:53 PDT 2009</td>\n",
              "      <td>NO_QUERY</td>\n",
              "      <td>mattycus</td>\n",
              "      <td>@Kenichan I dived many times for the ball. Man...</td>\n",
              "    </tr>\n",
              "    <tr>\n",
              "      <th>3</th>\n",
              "      <td>0</td>\n",
              "      <td>1467811184</td>\n",
              "      <td>Mon Apr 06 22:19:57 PDT 2009</td>\n",
              "      <td>NO_QUERY</td>\n",
              "      <td>ElleCTF</td>\n",
              "      <td>my whole body feels itchy and like its on fire</td>\n",
              "    </tr>\n",
              "    <tr>\n",
              "      <th>4</th>\n",
              "      <td>0</td>\n",
              "      <td>1467811193</td>\n",
              "      <td>Mon Apr 06 22:19:57 PDT 2009</td>\n",
              "      <td>NO_QUERY</td>\n",
              "      <td>Karoli</td>\n",
              "      <td>@nationwideclass no, it's not behaving at all....</td>\n",
              "    </tr>\n",
              "  </tbody>\n",
              "</table>\n",
              "</div>"
            ],
            "text/plain": [
              "   target  ...                                               text\n",
              "0       0  ...  @switchfoot http://twitpic.com/2y1zl - Awww, t...\n",
              "1       0  ...  is upset that he can't update his Facebook by ...\n",
              "2       0  ...  @Kenichan I dived many times for the ball. Man...\n",
              "3       0  ...    my whole body feels itchy and like its on fire \n",
              "4       0  ...  @nationwideclass no, it's not behaving at all....\n",
              "\n",
              "[5 rows x 6 columns]"
            ]
          },
          "metadata": {
            "tags": []
          },
          "execution_count": 10
        }
      ]
    },
    {
      "cell_type": "code",
      "metadata": {
        "id": "9npWbAEnR3FO"
      },
      "source": [
        ""
      ],
      "execution_count": 11,
      "outputs": []
    },
    {
      "cell_type": "code",
      "metadata": {
        "id": "B49V1k6WSSzT"
      },
      "source": [
        "import time\r\n",
        "# adding a column called month with the number of the month\r\n",
        "# this is done by applying an anonymous function to each row\r\n",
        "# using the function time.streptime which converts a string date in the asctime format\r\n",
        "# to a gm time structure\r\n",
        "tweets['month'] = tweets['date'].apply(lambda x: time.strptime(x[0:19] + x[23:]).tm_mon)\r\n",
        "tweets['hour'] = tweets['date'].apply(lambda x: time.strptime(x[0:19] + x[23:]).tm_hour)\r\n",
        "tweets['weekday'] = tweets['date'].apply(lambda x: time.asctime(time.strptime(x[0:19] + x[23:]))[0:3])"
      ],
      "execution_count": 176,
      "outputs": []
    },
    {
      "cell_type": "code",
      "metadata": {
        "colab": {
          "base_uri": "https://localhost:8080/",
          "height": 564
        },
        "id": "StLCrILP9pua",
        "outputId": "152dc228-8cf0-4843-9403-5f6b431c57e1"
      },
      "source": [
        "tweets.head()"
      ],
      "execution_count": 232,
      "outputs": [
        {
          "output_type": "execute_result",
          "data": {
            "text/html": [
              "<div>\n",
              "<style scoped>\n",
              "    .dataframe tbody tr th:only-of-type {\n",
              "        vertical-align: middle;\n",
              "    }\n",
              "\n",
              "    .dataframe tbody tr th {\n",
              "        vertical-align: top;\n",
              "    }\n",
              "\n",
              "    .dataframe thead th {\n",
              "        text-align: right;\n",
              "    }\n",
              "</style>\n",
              "<table border=\"1\" class=\"dataframe\">\n",
              "  <thead>\n",
              "    <tr style=\"text-align: right;\">\n",
              "      <th></th>\n",
              "      <th>target</th>\n",
              "      <th>id</th>\n",
              "      <th>date</th>\n",
              "      <th>flag</th>\n",
              "      <th>user</th>\n",
              "      <th>text</th>\n",
              "      <th>month</th>\n",
              "      <th>hour</th>\n",
              "      <th>weekday</th>\n",
              "    </tr>\n",
              "  </thead>\n",
              "  <tbody>\n",
              "    <tr>\n",
              "      <th>0</th>\n",
              "      <td>Negative</td>\n",
              "      <td>1467810369</td>\n",
              "      <td>Mon Apr 06 22:19:45 PDT 2009</td>\n",
              "      <td>NO_QUERY</td>\n",
              "      <td>_TheSpecialOne_</td>\n",
              "      <td>@switchfoot http://twitpic.com/2y1zl - Awww, t...</td>\n",
              "      <td>4</td>\n",
              "      <td>22</td>\n",
              "      <td>Mon</td>\n",
              "    </tr>\n",
              "    <tr>\n",
              "      <th>1</th>\n",
              "      <td>Negative</td>\n",
              "      <td>1467810672</td>\n",
              "      <td>Mon Apr 06 22:19:49 PDT 2009</td>\n",
              "      <td>NO_QUERY</td>\n",
              "      <td>scotthamilton</td>\n",
              "      <td>is upset that he can't update his Facebook by ...</td>\n",
              "      <td>4</td>\n",
              "      <td>22</td>\n",
              "      <td>Mon</td>\n",
              "    </tr>\n",
              "    <tr>\n",
              "      <th>2</th>\n",
              "      <td>Negative</td>\n",
              "      <td>1467810917</td>\n",
              "      <td>Mon Apr 06 22:19:53 PDT 2009</td>\n",
              "      <td>NO_QUERY</td>\n",
              "      <td>mattycus</td>\n",
              "      <td>@Kenichan I dived many times for the ball. Man...</td>\n",
              "      <td>4</td>\n",
              "      <td>22</td>\n",
              "      <td>Mon</td>\n",
              "    </tr>\n",
              "    <tr>\n",
              "      <th>3</th>\n",
              "      <td>Negative</td>\n",
              "      <td>1467811184</td>\n",
              "      <td>Mon Apr 06 22:19:57 PDT 2009</td>\n",
              "      <td>NO_QUERY</td>\n",
              "      <td>ElleCTF</td>\n",
              "      <td>my whole body feels itchy and like its on fire</td>\n",
              "      <td>4</td>\n",
              "      <td>22</td>\n",
              "      <td>Mon</td>\n",
              "    </tr>\n",
              "    <tr>\n",
              "      <th>4</th>\n",
              "      <td>Negative</td>\n",
              "      <td>1467811193</td>\n",
              "      <td>Mon Apr 06 22:19:57 PDT 2009</td>\n",
              "      <td>NO_QUERY</td>\n",
              "      <td>Karoli</td>\n",
              "      <td>@nationwideclass no, it's not behaving at all....</td>\n",
              "      <td>4</td>\n",
              "      <td>22</td>\n",
              "      <td>Mon</td>\n",
              "    </tr>\n",
              "  </tbody>\n",
              "</table>\n",
              "</div>"
            ],
            "text/plain": [
              "     target          id                          date  ... month hour weekday\n",
              "0  Negative  1467810369  Mon Apr 06 22:19:45 PDT 2009  ...     4   22     Mon\n",
              "1  Negative  1467810672  Mon Apr 06 22:19:49 PDT 2009  ...     4   22     Mon\n",
              "2  Negative  1467810917  Mon Apr 06 22:19:53 PDT 2009  ...     4   22     Mon\n",
              "3  Negative  1467811184  Mon Apr 06 22:19:57 PDT 2009  ...     4   22     Mon\n",
              "4  Negative  1467811193  Mon Apr 06 22:19:57 PDT 2009  ...     4   22     Mon\n",
              "\n",
              "[5 rows x 9 columns]"
            ]
          },
          "metadata": {
            "tags": []
          },
          "execution_count": 232
        }
      ]
    },
    {
      "cell_type": "code",
      "metadata": {
        "id": "VuLCn6_1Ux7s"
      },
      "source": [
        "# grouping the tweets per month\r\n",
        "group_pos = tweets[tweets['target']=='Positive'].groupby(['month'])\r\n",
        "group_neg = tweets[tweets['target']=='Negative'].groupby(['month'])\r\n",
        "group_all = tweets.groupby(['month'])"
      ],
      "execution_count": 177,
      "outputs": []
    },
    {
      "cell_type": "code",
      "metadata": {
        "id": "vg-vDGttVJJU"
      },
      "source": [
        "# counting the number of positive, negative and all tweets in each months\r\n",
        "y_pos = group_pos.count()['id']\r\n",
        "y_neg = group_neg.count()['id']\r\n",
        "y_all = group_all.count()['id']"
      ],
      "execution_count": 178,
      "outputs": []
    },
    {
      "cell_type": "code",
      "metadata": {
        "colab": {
          "base_uri": "https://localhost:8080/",
          "height": 285
        },
        "id": "jT_9IPzBWC8Y",
        "outputId": "9cf9d4c0-0b2f-4c27-b43b-50f72e2b039f"
      },
      "source": [
        "# plotting the number of tweets per months\r\n",
        "from matplotlib import pyplot as plt\r\n",
        "plt.plot(np.arange(4,7), y_all) \r\n",
        "plt.plot(np.arange(4,7), y_pos)\r\n",
        "plt.plot(np.arange(4,7), y_neg)\r\n",
        "plt.legend(['All tweets', 'Positive tweets', 'Negative tweets'])\r\n",
        "plt.xticks([4, 5, 6], ['April', 'Mai', 'June'])\r\n",
        "plt.xlabel('month')\r\n",
        "plt.ylabel('Num of tweets')\r\n",
        "plt.rcParams.update({'font.size': 12})\r\n",
        "plt.savefig('tweets_april_mai_june', dpi = 300)"
      ],
      "execution_count": 179,
      "outputs": [
        {
          "output_type": "display_data",
          "data": {
            "image/png": "[encoded data removed]",
            "text/plain": [
              "<Figure size 432x288 with 1 Axes>"
            ]
          },
          "metadata": {
            "tags": [],
            "needs_background": "light"
          }
        }
      ]
    },
    {
      "cell_type": "code",
      "metadata": {
        "id": "nE1p4pdT3F9S"
      },
      "source": [
        "# calculating the number of tweet per hour on each day of the week\r\n",
        "days = ['Sun', 'Mon', 'Tue', 'Wed', 'Thu', 'Fri', 'Sat']\r\n",
        "time = list(np.arange(23))\r\n",
        "num_tweet_all = np.zeros((len(days), len(time)))\r\n",
        "num_tweet_pos = np.zeros((len(days), len(time)))\r\n",
        "num_tweet_neg = np.zeros((len(days), len(time)))\r\n",
        "for i in range(len(days)):\r\n",
        "    # counts the number of occurence of each hour\r\n",
        "    # .value_counts() returns the occurences of hours which need to be reordered by evaluating it at \"time\"\r\n",
        "    num_tweet_all[i] = np.array(tweets[tweets['weekday']==days[i]]['hour'].value_counts()[time])\r\n",
        "    # The following two lines didn't work because the dataset has no positive or negative tweets at some hours\r\n",
        "    # It seems the data set was manipulated to balance the number of positive and negatice tweets\r\n",
        "    # This results in non uniformous distribution of positive and negative tweets in time\r\n",
        "    # num_tweet_pos[i] = np.array(tweets[(tweets['weekday']==days[i]) & (tweets['target']=='Positive')]['hour'].value_counts()[time])\r\n",
        "    # num_tweet_neg[i] = np.array(tweets[(tweets['weekday']==days[i]) & (tweets['target']=='Negative')]['hour'].value_counts()[time])"
      ],
      "execution_count": 235,
      "outputs": []
    },
    {
      "cell_type": "code",
      "metadata": {
        "colab": {
          "base_uri": "https://localhost:8080/",
          "height": 285
        },
        "id": "V39Zj9fn5PpC",
        "outputId": "69e7772c-c3e3-412b-8ff7-f22d06ded492"
      },
      "source": [
        "# plotting the number of tweets per hour on each day of the week\r\n",
        "fig, ax = plt.subplots()\r\n",
        "ax.set_prop_cycle(color = ['red', 'goldenrod', 'green', 'cyan', 'blue', 'purple', 'magenta'])\r\n",
        "plt.plot(time,num_tweet_all.T)\r\n",
        "plt.legend(days)\r\n",
        "plt.ylabel('Number of Tweets')\r\n",
        "plt.xlabel('Hour')\r\n",
        "plt.xticks(np.linspace(0,23,24));\r\n",
        "plt.xlim((0, 30))\r\n",
        "plt.savefig('tweets_per_hour', dpi = 300)"
      ],
      "execution_count": 242,
      "outputs": [
        {
          "output_type": "display_data",
          "data": {
            "image/png": "[encoded data removed]",
            "text/plain": [
              "<Figure size 432x288 with 1 Axes>"
            ]
          },
          "metadata": {
            "tags": [],
            "needs_background": "light"
          }
        }
      ]
    },
    {
      "cell_type": "code",
      "metadata": {
        "id": "AoWzZCD8rlU4"
      },
      "source": [
        "# Preprocessing\n",
        "from sklearn.feature_extraction.text import TfidfVectorizer\n",
        "from sklearn.feature_extraction.text import TfidfTransformer\n",
        "from sklearn.model_selection import train_test_split\n",
        "\n",
        "# Building classification models\n",
        "from sklearn.svm import LinearSVC\n",
        "from sklearn.pipeline import Pipeline\n",
        "\n",
        "# Model evaluation\n",
        "from sklearn import metrics\n",
        "from sklearn.metrics import classification_report, confusion_matrix"
      ],
      "execution_count": 61,
      "outputs": []
    },
    {
      "cell_type": "code",
      "metadata": {
        "colab": {
          "base_uri": "https://localhost:8080/"
        },
        "id": "kloTLcBbrlU4",
        "outputId": "f184bb47-a659-435e-db25-ff434cf9bf3d"
      },
      "source": [
        "X_all = tweets[\"text\"]\n",
        "y_all = tweets[\"target\"]\n",
        "len_pos = len(tweet_pos)\n",
        "len_neg = len(tweet_neg)\n",
        "X_all = X_all.append(tweet_pos)\n",
        "X_all =X_all.append(tweet_neg)\n",
        "y_all =y_all.append(pd.Series(np.array(['Positive']*len_pos)))\n",
        "y_all =y_all.append(pd.Series(np.array(['Negative']*len_neg)))\n",
        "y_all"
      ],
      "execution_count": 63,
      "outputs": [
        {
          "output_type": "execute_result",
          "data": {
            "text/plain": [
              "0          Negative\n",
              "1          Negative\n",
              "2          Negative\n",
              "3          Negative\n",
              "4          Negative\n",
              "             ...   \n",
              "1249995    Negative\n",
              "1249996    Negative\n",
              "1249997    Negative\n",
              "1249998    Negative\n",
              "1249999    Negative\n",
              "Length: 4100000, dtype: object"
            ]
          },
          "metadata": {
            "tags": []
          },
          "execution_count": 63
        }
      ]
    },
    {
      "cell_type": "code",
      "metadata": {
        "id": "HwljsGWIrlU5"
      },
      "source": [
        "\n",
        "X_train, X_test, y_train, y_test = train_test_split(X_all, y_all, test_size=0.25, random_state=42)\n",
        "\n",
        "X_train, X_valid, y_train, y_valid = train_test_split(X_train, y_train, test_size=0.1, random_state=42)"
      ],
      "execution_count": 64,
      "outputs": []
    },
    {
      "cell_type": "code",
      "metadata": {
        "colab": {
          "base_uri": "https://localhost:8080/"
        },
        "id": "wbl1zYZSrlU5",
        "outputId": "ebbed825-83be-49c4-d6a2-e5a06e10fb7c"
      },
      "source": [
        "tfidf = TfidfVectorizer()\n",
        "tfidf.fit_transform(X_train)"
      ],
      "execution_count": 65,
      "outputs": [
        {
          "output_type": "execute_result",
          "data": {
            "text/plain": [
              "<2767500x810276 sparse matrix of type '<class 'numpy.float64'>'\n",
              "\twith 32696184 stored elements in Compressed Sparse Row format>"
            ]
          },
          "metadata": {
            "tags": []
          },
          "execution_count": 65
        }
      ]
    },
    {
      "cell_type": "code",
      "metadata": {
        "id": "Hjdge-6grlU6"
      },
      "source": [
        "def train(tfidf, model, train_data, train_labels, test_data):\n",
        "    model.fit(tfidf.transform(train_data), train_labels)\n",
        "    preds = model.predict(tfidf.transform(test_data))\n",
        "    \n",
        "    return preds"
      ],
      "execution_count": 66,
      "outputs": []
    },
    {
      "cell_type": "code",
      "metadata": {
        "id": "xKnYXD2GrlU6"
      },
      "source": [
        "def grade(model, preds, test_labels):\n",
        "    print(metrics.classification_report(test_labels, preds))\n",
        "    \n",
        "    cm = confusion_matrix(test_labels, preds)\n",
        "    cm_normd = cm / cm.sum(axis=1).reshape(-1, 1)\n",
        "    \n",
        "    heatmap_kwargs = dict(\n",
        "        cmap=\"YlGnBu\",\n",
        "        xticklabels=model.classes_,\n",
        "        yticklabels=model.classes_,\n",
        "        vmin=0.,\n",
        "        vmax=1.,\n",
        "        annot=True,\n",
        "        annot_kws={\"size\": 10},\n",
        "    )\n",
        "    \n",
        "    sns.heatmap(cm_normd, **heatmap_kwargs)\n",
        "    \n",
        "    plt.title(f\"{model.__class__.__name__} Classification\")\n",
        "    plt.ylabel(\"Ground-truth labels\")\n",
        "    plt.xlabel(\"Predicted labels\")\n",
        "    plt.plot()"
      ],
      "execution_count": 67,
      "outputs": []
    },
    {
      "cell_type": "code",
      "metadata": {
        "id": "fK7_ZX4FrlU6"
      },
      "source": [
        "def train_and_grade(tfidf, model, train_data, train_labels, test_data, test_labels):\n",
        "    preds = train(tfidf, model, train_data, train_labels, test_data)\n",
        "    grade(model, preds, test_labels)"
      ],
      "execution_count": 68,
      "outputs": []
    },
    {
      "cell_type": "code",
      "metadata": {
        "colab": {
          "base_uri": "https://localhost:8080/",
          "height": 458
        },
        "id": "RoagZO1xrlU7",
        "outputId": "4664e3d5-aa09-4abe-a587-4760525d4d75"
      },
      "source": [
        "svm_lsvc = LinearSVC(class_weight=\"balanced\")\n",
        "clf = CalibratedClassifierCV(svm_lsvc)\n",
        "train_and_grade(tfidf, clf, X_train, y_train, X_valid, y_valid)"
      ],
      "execution_count": 69,
      "outputs": [
        {
          "output_type": "stream",
          "text": [
            "              precision    recall  f1-score   support\n",
            "\n",
            "    Negative       0.81      0.80      0.81    153794\n",
            "    Positive       0.80      0.82      0.81    153706\n",
            "\n",
            "    accuracy                           0.81    307500\n",
            "   macro avg       0.81      0.81      0.81    307500\n",
            "weighted avg       0.81      0.81      0.81    307500\n",
            "\n"
          ],
          "name": "stdout"
        },
        {
          "output_type": "display_data",
          "data": {
            "image/png": "[encoded data removed]",
            "text/plain": [
              "<Figure size 432x288 with 2 Axes>"
            ]
          },
          "metadata": {
            "tags": [],
            "needs_background": "light"
          }
        }
      ]
    },
    {
      "cell_type": "code",
      "metadata": {
        "id": "xNs61s3IdHBG"
      },
      "source": [
        "import pickle\r\n",
        "pickle.dump(clf, open( \"save.p\", \"wb\" ) )"
      ],
      "execution_count": 71,
      "outputs": []
    },
    {
      "cell_type": "code",
      "metadata": {
        "id": "Iwzlex2RrlU7"
      },
      "source": [
        "preds = clf.predict(tfidf.transform(X_test))\n",
        "preds_proba = clf.predict_proba(tfidf.transform(X_test))"
      ],
      "execution_count": 72,
      "outputs": []
    },
    {
      "cell_type": "code",
      "metadata": {
        "colab": {
          "base_uri": "https://localhost:8080/"
        },
        "id": "cP_fEQrQgeZt",
        "outputId": "1cad772c-9f93-4587-9eb9-c03e962149ca"
      },
      "source": [
        "preds"
      ],
      "execution_count": 78,
      "outputs": [
        {
          "output_type": "execute_result",
          "data": {
            "text/plain": [
              "array(['Negative', 'Negative', 'Negative', ..., 'Negative', 'Negative',\n",
              "       'Positive'], dtype='<U8')"
            ]
          },
          "metadata": {
            "tags": []
          },
          "execution_count": 78
        }
      ]
    },
    {
      "cell_type": "code",
      "metadata": {
        "colab": {
          "base_uri": "https://localhost:8080/",
          "height": 337
        },
        "id": "6HABFj97rlU8",
        "outputId": "896bc342-fa19-4544-9060-ac98ff5a875a"
      },
      "source": [
        "plt.hist(preds)"
      ],
      "execution_count": 73,
      "outputs": [
        {
          "output_type": "execute_result",
          "data": {
            "text/plain": [
              "(array([502239.,      0.,      0.,      0.,      0.,      0.,      0.,\n",
              "             0.,      0., 522761.]),\n",
              " array([0. , 0.1, 0.2, 0.3, 0.4, 0.5, 0.6, 0.7, 0.8, 0.9, 1. ]),\n",
              " <a list of 10 Patch objects>)"
            ]
          },
          "metadata": {
            "tags": []
          },
          "execution_count": 73
        },
        {
          "output_type": "display_data",
          "data": {
            "image/png": "[encoded data removed]",
            "text/plain": [
              "<Figure size 432x288 with 1 Axes>"
            ]
          },
          "metadata": {
            "tags": [],
            "needs_background": "light"
          }
        }
      ]
    },
    {
      "cell_type": "code",
      "metadata": {
        "colab": {
          "base_uri": "https://localhost:8080/"
        },
        "id": "fJbDO2xdhAVf",
        "outputId": "a52d7b4c-1630-45ba-8c0b-1340bf6204a7"
      },
      "source": [
        "pred_neut"
      ],
      "execution_count": 87,
      "outputs": [
        {
          "output_type": "execute_result",
          "data": {
            "text/plain": [
              "array(['Negative', 'Negative', 'Negative', ..., 'Neutral', 'Negative',\n",
              "       'Positive'], dtype='<U8')"
            ]
          },
          "metadata": {
            "tags": []
          },
          "execution_count": 87
        }
      ]
    },
    {
      "cell_type": "code",
      "metadata": {
        "colab": {
          "base_uri": "https://localhost:8080/",
          "height": 341
        },
        "id": "N9WNif3t5v9Y",
        "outputId": "56f4f8c3-1edc-4c3c-cf66-ecf57c5dd25b"
      },
      "source": [
        "f = lambda x: 'Negative' if x>0.6 else ('Neutral' if x>0.4 else 'Positive')\r\n",
        "pred_neut = np.array([f(xi) for xi in preds_proba[:,0]])\r\n",
        "plt.hist(pred_neut)"
      ],
      "execution_count": 174,
      "outputs": [
        {
          "output_type": "execute_result",
          "data": {
            "text/plain": [
              "(array([436673.,      0.,      0.,      0.,      0., 454451.,      0.,\n",
              "             0.,      0., 133876.]),\n",
              " array([0. , 0.2, 0.4, 0.6, 0.8, 1. , 1.2, 1.4, 1.6, 1.8, 2. ]),\n",
              " <a list of 10 Patch objects>)"
            ]
          },
          "metadata": {
            "tags": []
          },
          "execution_count": 174
        },
        {
          "output_type": "display_data",
          "data": {
            "image/png": "[encoded data removed]",
            "text/plain": [
              "<Figure size 432x288 with 1 Axes>"
            ]
          },
          "metadata": {
            "tags": [],
            "needs_background": "light"
          }
        }
      ]
    },
    {
      "cell_type": "code",
      "metadata": {
        "colab": {
          "base_uri": "https://localhost:8080/"
        },
        "id": "B-SU3U2rvNlc",
        "outputId": "17d6fa1a-b6e1-4701-ae2a-549bbae4e680"
      },
      "source": [
        "!pip install fasttext"
      ],
      "execution_count": null,
      "outputs": [
        {
          "output_type": "stream",
          "text": [
            "Collecting fasttext\n",
            "\u001b[?25l  Downloading https://files.pythonhosted.org/packages/f8/85/e2b368ab6d3528827b147fdb814f8189acc981a4bc2f99ab894650e05c40/fasttext-0.9.2.tar.gz (68kB)\n",
            "\r\u001b[K     |████▊                           | 10kB 17.8MB/s eta 0:00:01\r\u001b[K     |█████████▌                      | 20kB 21.3MB/s eta 0:00:01\r\u001b[K     |██████████████▎                 | 30kB 10.1MB/s eta 0:00:01\r\u001b[K     |███████████████████             | 40kB 8.1MB/s eta 0:00:01\r\u001b[K     |███████████████████████▉        | 51kB 4.4MB/s eta 0:00:01\r\u001b[K     |████████████████████████████▋   | 61kB 4.5MB/s eta 0:00:01\r\u001b[K     |████████████████████████████████| 71kB 3.3MB/s \n",
            "\u001b[?25hRequirement already satisfied: pybind11>=2.2 in /usr/local/lib/python3.6/dist-packages (from fasttext) (2.6.1)\n",
            "Requirement already satisfied: setuptools>=0.7.0 in /usr/local/lib/python3.6/dist-packages (from fasttext) (50.3.2)\n",
            "Requirement already satisfied: numpy in /usr/local/lib/python3.6/dist-packages (from fasttext) (1.19.4)\n",
            "Building wheels for collected packages: fasttext\n",
            "  Building wheel for fasttext (setup.py) ... \u001b[?25l\u001b[?25hdone\n",
            "  Created wheel for fasttext: filename=fasttext-0.9.2-cp36-cp36m-linux_x86_64.whl size=3039080 sha256=d2f92a2434dab33370b44bc8adf6e51b772d25cebbe965b8e2189577d40ee024\n",
            "  Stored in directory: /root/.cache/pip/wheels/98/ba/7f/b154944a1cf5a8cee91c154b75231136cc3a3321ab0e30f592\n",
            "Successfully built fasttext\n",
            "Installing collected packages: fasttext\n",
            "Successfully installed fasttext-0.9.2\n"
          ],
          "name": "stdout"
        }
      ]
    },
    {
      "cell_type": "code",
      "metadata": {
        "id": "UlAC7POYrlU8"
      },
      "source": [
        "import fasttext"
      ],
      "execution_count": null,
      "outputs": []
    },
    {
      "cell_type": "code",
      "metadata": {
        "id": "DG9tEAx3XjZS"
      },
      "source": [
        "def shuffle(series):\r\n",
        "  series.index = np.linspace(0, len(series)-1, len(series))\r\n",
        "  series = series.iloc[np.random.permutation(len(pos_))]\r\n",
        "  series.index = np.linspace(0, len(series)-1, len(series))\r\n",
        "  return series"
      ],
      "execution_count": null,
      "outputs": []
    },
    {
      "cell_type": "code",
      "metadata": {
        "id": "ECpkSIPPDvp3"
      },
      "source": [
        "test_percentage = 0.1\n",
        "validate_percentage = 0.1\n",
        "pos = shuffle(X_all[y_all==4])\n",
        "neg = shuffle(X_all[y_all==0])\n",
        "\n",
        "num_neg_test = int(test_percentage * len(neg) )\n",
        "num_neg_validate = int(test_percentage * len(neg) )\n",
        "\n",
        "num_pos_test = int(test_percentage * len(pos) )\n",
        "num_pos_validate = int(validate_percentage * len(pos) )"
      ],
      "execution_count": null,
      "outputs": []
    },
    {
      "cell_type": "code",
      "metadata": {
        "colab": {
          "base_uri": "https://localhost:8080/"
        },
        "id": "wXniOYvsrlU9",
        "outputId": "80de45e0-1759-4b59-c2a7-eb2ef62132e2"
      },
      "source": [
        "try:\n",
        "    fileTrain = open(\"train.txt\",\"w\",errors=\"namereplace\")\n",
        "    fileValid = open(\"valid.txt\",\"w\",errors=\"namereplace\")\n",
        "    fileTest = open(\"test.txt\",\"w\",errors=\"namereplace\")\n",
        "    print(\"pos \",len(pos),\"neg\",len(neg))\n",
        "    i = 0\n",
        "    for neg_line in neg:\n",
        "        # if i % 1e5==0: print(neg_line,'\\n') \n",
        "        if (i < num_neg_test):\n",
        "            fileTest.write(\"__label__0 \"+(neg_line)+\"\\n\")\n",
        "        elif (i < num_neg_test + num_neg_validate):\n",
        "            fileValid.write(\"__label__0 \"+(neg_line)+\"\\n\")\n",
        "        else:\n",
        "            fileTrain.write(\"__label__0 \"+(neg_line)+\"\\n\")\n",
        "        i +=1\n",
        "    i = 0 \n",
        "    for pos_line in pos:\n",
        "        # if i % 1e5==0: print(pos_line,'\\n') \n",
        "        if(i < num_neg_test):\n",
        "            fileTest.write(\"__label__4 \"+(pos_line)+\"\\n\")\n",
        "        elif (i < num_neg_test + num_neg_validate):\n",
        "            fileValid.write(\"__label__4 \"+(pos_line)+\"\\n\")\n",
        "        else:\n",
        "            fileTrain.write(\"__label__4 \"+(pos_line)+\"\\n\")\n",
        "        i +=1\n",
        "# except:\n",
        "#     print(\"Error try again\",flush = True)\n",
        "finally:\n",
        "    fileTrain.close()\n",
        "    fileValid.close()\n",
        "    fileTest.close()"
      ],
      "execution_count": null,
      "outputs": [
        {
          "output_type": "stream",
          "text": [
            "pos  2050000 neg 2050000\n"
          ],
          "name": "stdout"
        }
      ]
    },
    {
      "cell_type": "code",
      "metadata": {
        "id": "PTH571jYrlU-"
      },
      "source": [
        "model = fasttext.train_supervised(input = \"ready_for_fasttext.txt\",autotuneValidationFile = \"valid_fastText.txt\")"
      ],
      "execution_count": null,
      "outputs": []
    },
    {
      "cell_type": "code",
      "metadata": {
        "id": "dhwQrDDa0d32"
      },
      "source": [
        "model_no_val = fasttext.train_supervised(input = \"train.txt\")"
      ],
      "execution_count": null,
      "outputs": []
    },
    {
      "cell_type": "code",
      "metadata": {
        "id": "tS0Nl5lP08Rf"
      },
      "source": [
        "hyper_params = {\"lr\": 0.01,\r\n",
        "    \"epoch\": 70,\r\n",
        "    \"wordNgrams\": 2,\r\n",
        "    \"dim\": 20}"
      ],
      "execution_count": null,
      "outputs": []
    },
    {
      "cell_type": "code",
      "metadata": {
        "id": "1zH2HSAf09Gh"
      },
      "source": [
        "model_hyper = fasttext.train_supervised(input=\"train.txt\", **hyper_params)"
      ],
      "execution_count": null,
      "outputs": []
    },
    {
      "cell_type": "code",
      "metadata": {
        "colab": {
          "base_uri": "https://localhost:8080/"
        },
        "id": "txBG1azpCiA-",
        "outputId": "fccef495-9870-4a92-eb9b-bcdf3a6a1283"
      },
      "source": [
        "model.test(\"test.txt\")"
      ],
      "execution_count": null,
      "outputs": [
        {
          "output_type": "execute_result",
          "data": {
            "text/plain": [
              "(410000, 0.5007780487804878, 0.5007780487804878)"
            ]
          },
          "metadata": {
            "tags": []
          },
          "execution_count": 124
        }
      ]
    },
    {
      "cell_type": "code",
      "metadata": {
        "colab": {
          "base_uri": "https://localhost:8080/"
        },
        "id": "pTrva4nCHQeV",
        "outputId": "6fac5af3-50ac-4c2d-8ebb-151d1033b852"
      },
      "source": [
        "model.test(\"train.txt\")"
      ],
      "execution_count": null,
      "outputs": [
        {
          "output_type": "execute_result",
          "data": {
            "text/plain": [
              "(3280000, 0.5041326219512196, 0.5041326219512196)"
            ]
          },
          "metadata": {
            "tags": []
          },
          "execution_count": 84
        }
      ]
    },
    {
      "cell_type": "code",
      "metadata": {
        "colab": {
          "base_uri": "https://localhost:8080/"
        },
        "id": "F56MY0ptHQns",
        "outputId": "d5ec2ed8-4aff-4d6f-ed85-c8f30d966a43"
      },
      "source": [
        "model.test(\"valid.txt\")"
      ],
      "execution_count": null,
      "outputs": [
        {
          "output_type": "execute_result",
          "data": {
            "text/plain": [
              "(410000, 0.503980487804878, 0.503980487804878)"
            ]
          },
          "metadata": {
            "tags": []
          },
          "execution_count": 85
        }
      ]
    },
    {
      "cell_type": "code",
      "metadata": {
        "id": "qWLh6groTAvy"
      },
      "source": [
        "def test_model(model,test_set):\r\n",
        "  correct = 0\r\n",
        "  for i in range(len(test_set)):\r\n",
        "    if model.predict(test_set['text'][i])[0][0] == '__label__4':\r\n",
        "      temp = 4\r\n",
        "    else:\r\n",
        "      temp = 0\r\n",
        "    if temp == test_set['target'][i]:\r\n",
        "      correct = correct + 1\r\n",
        "\r\n",
        "  accuracy = correct/len(test_set)\r\n",
        "  return accuracy"
      ],
      "execution_count": null,
      "outputs": []
    },
    {
      "cell_type": "code",
      "metadata": {
        "id": "-ALBwz-z1dLe"
      },
      "source": [
        "test_model(model)"
      ],
      "execution_count": null,
      "outputs": []
    },
    {
      "cell_type": "code",
      "metadata": {
        "colab": {
          "base_uri": "https://localhost:8080/"
        },
        "id": "5ik5Ws4XxUR2",
        "outputId": "ad082a46-6b08-4f00-8483-a339fba5b935"
      },
      "source": [
        "test_model(model_no_val)"
      ],
      "execution_count": null,
      "outputs": [
        {
          "output_type": "execute_result",
          "data": {
            "text/plain": [
              "0.5059853366568944"
            ]
          },
          "metadata": {
            "tags": []
          },
          "execution_count": 221
        }
      ]
    },
    {
      "cell_type": "code",
      "metadata": {
        "colab": {
          "base_uri": "https://localhost:8080/"
        },
        "id": "rhgxJLz21eAm",
        "outputId": "4e8a4096-b1f9-4ee0-f2c0-30d4c1a47607"
      },
      "source": [
        "test_model(model_hyper)"
      ],
      "execution_count": null,
      "outputs": [
        {
          "output_type": "execute_result",
          "data": {
            "text/plain": [
              "0.5893873688421032"
            ]
          },
          "metadata": {
            "tags": []
          },
          "execution_count": 238
        }
      ]
    }
  ]
}